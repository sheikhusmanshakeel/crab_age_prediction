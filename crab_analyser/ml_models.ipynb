{
 "cells": [
  {
   "cell_type": "code",
   "execution_count": 17,
   "metadata": {},
   "outputs": [],
   "source": [
    "import pandas as pd\n",
    "pd.set_option(\"display.max_columns\",500)\n",
    "pd.set_option(\"display.max_rows\",1000)\n",
    "import os\n",
    "import logging\n",
    "import seaborn as sns\n",
    "import numpy as np\n",
    "from sklearn import preprocessing\n",
    "from sklearn.model_selection import train_test_split\n",
    "from sklearn import model_selection\n",
    "from sklearn import linear_model\n",
    "import matplotlib.pyplot as plt\n",
    "from sklearn import datasets\n",
    "from sklearn.decomposition import PCA\n",
    "from sklearn.preprocessing import StandardScaler, OneHotEncoder, QuantileTransformer, RobustScaler\n",
    "from sklearn.pipeline import Pipeline\n",
    "from sklearn.compose import TransformedTargetRegressor, make_column_transformer\n",
    "from sklearn.utils import shuffle\n",
    "from sklearn.metrics import mean_squared_error, mean_absolute_error\n",
    "from sklearn.ensemble import RandomForestRegressor, GradientBoostingRegressor\n",
    "from scipy import stats\n",
    "import category_encoders as ce\n",
    "sns.set_style(\"darkgrid\")\n",
    "%matplotlib inline"
   ]
  },
  {
   "cell_type": "code",
   "execution_count": 18,
   "metadata": {},
   "outputs": [],
   "source": [
    "logger = logging.getLogger('crab_analysis')\n",
    "logger.setLevel(logging.DEBUG)\n",
    "logger.handlers = []\n",
    "ch = logging.StreamHandler()\n",
    "ch.setLevel(logging.DEBUG)\n",
    "formatter = logging.Formatter('%(asctime)s - %(name)s - %(levelname)s - %(message)s')\n",
    "ch.setFormatter(formatter)\n",
    "logger.addHandler(ch)"
   ]
  },
  {
   "cell_type": "code",
   "execution_count": 19,
   "metadata": {},
   "outputs": [],
   "source": [
    "columns = [\"length\", \"diameter\", \"height\", \"weight\", \"shucked_weight\", \"viscera_weight\", \"shell_weight\",\n",
    "                        \"age\", \"sex\"]\n",
    "continuous_var_columns = [\"length\", \"diameter\", \"height\", \"weight\", \"shucked_weight\", \"viscera_weight\",\n",
    "                                       \"shell_weight\", \"age\"]\n"
   ]
  },
  {
   "cell_type": "code",
   "execution_count": 20,
   "metadata": {},
   "outputs": [],
   "source": [
    "raw_df = pd.read_csv(\"crab_data.csv\")\n",
    "raw_df.fillna(raw_df.mean(), inplace=True)\n",
    "raw_df_cont = raw_df[continuous_var_columns]\n",
    "x = raw_df_cont[~(np.abs(stats.zscore(raw_df_cont)) < 3).all(axis=1)]\n",
    "crab_df_woo = raw_df.drop(x.index)"
   ]
  },
  {
   "cell_type": "code",
   "execution_count": 21,
   "metadata": {},
   "outputs": [],
   "source": [
    "def reverse_ohe(row):\n",
    "    \"\"\"\n",
    "    reverse codes onehotencoding required for OLS\n",
    "\n",
    "    :param row:\n",
    "    :return:\n",
    "    \"\"\"\n",
    "    if row[\"sex_F\"] == 1:\n",
    "        return 'F'\n",
    "    if row[\"sex_M\"] == 1:\n",
    "        return 'M'\n",
    "    if row[\"sex_I\"] == 1:\n",
    "        return 'I'\n",
    "    # this should never happen\n",
    "    return 'na'"
   ]
  },
  {
   "cell_type": "code",
   "execution_count": 29,
   "metadata": {},
   "outputs": [
    {
     "name": "stderr",
     "output_type": "stream",
     "text": [
      "2019-12-04 22:24:19,052 - crab_analysis - DEBUG - MAE: 1.4528987918744949\n",
      "2019-12-04 22:24:19,058 - crab_analysis - DEBUG - RMSE: 2.0374213086105413\n",
      "2019-12-04 22:24:19,058 - crab_analysis - DEBUG - R-squared: 0.4600900592575342\n"
     ]
    }
   ],
   "source": [
    "transformer = QuantileTransformer(output_distribution='normal')\n",
    "# since I observed that the data was skewed, I decided to transform the continuous variables to normal dist\n",
    "reg = linear_model.LinearRegression()\n",
    "t_reg = TransformedTargetRegressor(regressor=reg,transformer=transformer)\n",
    "ohe = ce.OneHotEncoder(handle_unknown='ignore', use_cat_names=True, drop_invariant=True)\n",
    "crab_df_woo_enc = ohe.fit_transform(crab_df_woo)\n",
    "X = crab_df_woo_enc.drop(\"age\",axis=1)\n",
    "y = crab_df_woo_enc[[\"age\"]]\n",
    "X_train, X_test, y_train, y_test = train_test_split(X, y, test_size=0.2, random_state=100)\n",
    "t_reg.fit(X_train, y_train)\n",
    "s1 = t_reg.score(X_test, y_test)\n",
    "y_pred = t_reg.predict(X)\n",
    "crab_df = X.copy()\n",
    "crab_df[\"age\"] = pd.Series(y.values.ravel())\n",
    "crab_df[\"age_ols\"] = pd.Series(y_pred.ravel())\n",
    "crab_df['sex'] = crab_df.apply (lambda row: reverse_ohe(row), axis=1)\n",
    "crab_df.drop([\"sex_I\",\"sex_M\",\"sex_F\"], axis=1, inplace=True)\n",
    "mse = np.sqrt(mean_squared_error(y,y_pred))\n",
    "mae = mean_absolute_error(y,y_pred)\n",
    "logger.debug(\"MAE: {0}\".format(mae))\n",
    "logger.debug(\"RMSE: {0}\".format(mse))\n",
    "logger.debug(\"R-squared: {0}\".format(s1))\n"
   ]
  },
  {
   "cell_type": "code",
   "execution_count": 30,
   "metadata": {},
   "outputs": [
    {
     "name": "stderr",
     "output_type": "stream",
     "text": [
      "2019-12-04 22:25:37,166 - crab_analysis - DEBUG - MAE: 0.8578217836058949\n",
      "2019-12-04 22:25:37,167 - crab_analysis - DEBUG - RMSE: 1.3054290811288343\n",
      "2019-12-04 22:25:37,168 - crab_analysis - DEBUG - R-squared: 0.5495520636895386\n"
     ]
    }
   ],
   "source": [
    "X = raw_df.drop(\"age\",axis=1)\n",
    "y = raw_df[[\"age\"]]\n",
    "X_train, X_test, y_train, y_test = train_test_split(X, y, test_size=0.2, random_state=100)\n",
    "numerical_features = X_train.dtypes == 'float'\n",
    "categorical_features = ~numerical_features\n",
    "preprocess = make_column_transformer(\n",
    "                                    (RobustScaler(), numerical_features),\n",
    "                                    (OneHotEncoder(sparse=False), categorical_features)\n",
    ")\n",
    "forest = RandomForestRegressor(n_estimators=5000, max_depth=20, min_samples_leaf=2,min_samples_split=4,random_state=100)\n",
    "f_reg = Pipeline(steps=[('preprocess', preprocess),('model', forest)])\n",
    "f_reg_ttr = TransformedTargetRegressor(regressor=f_reg)\n",
    "f_reg_ttr.fit(X_train,y_train)\n",
    "s = f_reg_ttr.score(X_test,y_test)\n",
    "y_pred = f_reg_ttr.predict(X)\n",
    "#recreate the original dataset\n",
    "crab_df = X.copy()\n",
    "crab_df[\"age\"] = pd.Series(y.values.ravel())\n",
    "crab_df[\"age_forest\"] = pd.Series(y_pred.ravel())\n",
    "mse = np.sqrt(mean_squared_error(y,y_pred))\n",
    "mae = mean_absolute_error(y,y_pred)\n",
    "logger.debug(\"MAE: {0}\".format(mae))\n",
    "logger.debug(\"RMSE: {0}\".format(mse))\n",
    "logger.debug(\"R-squared: {0}\".format(s))\n"
   ]
  },
  {
   "cell_type": "code",
   "execution_count": null,
   "metadata": {},
   "outputs": [],
   "source": []
  }
 ],
 "metadata": {
  "kernelspec": {
   "display_name": "Python 3",
   "language": "python",
   "name": "python3"
  },
  "language_info": {
   "codemirror_mode": {
    "name": "ipython",
    "version": 3
   },
   "file_extension": ".py",
   "mimetype": "text/x-python",
   "name": "python",
   "nbconvert_exporter": "python",
   "pygments_lexer": "ipython3",
   "version": "3.7.1"
  }
 },
 "nbformat": 4,
 "nbformat_minor": 2
}
